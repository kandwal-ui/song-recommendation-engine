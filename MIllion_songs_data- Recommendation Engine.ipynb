{
 "cells": [
  {
   "cell_type": "code",
   "execution_count": 1,
   "id": "b9e967c9",
   "metadata": {},
   "outputs": [],
   "source": [
    "import numpy as np\n",
    "import pandas as pd"
   ]
  },
  {
   "cell_type": "code",
   "execution_count": 2,
   "id": "bbf16325",
   "metadata": {},
   "outputs": [
    {
     "data": {
      "text/html": [
       "<div>\n",
       "<style scoped>\n",
       "    .dataframe tbody tr th:only-of-type {\n",
       "        vertical-align: middle;\n",
       "    }\n",
       "\n",
       "    .dataframe tbody tr th {\n",
       "        vertical-align: top;\n",
       "    }\n",
       "\n",
       "    .dataframe thead th {\n",
       "        text-align: right;\n",
       "    }\n",
       "</style>\n",
       "<table border=\"1\" class=\"dataframe\">\n",
       "  <thead>\n",
       "    <tr style=\"text-align: right;\">\n",
       "      <th></th>\n",
       "      <th>artist</th>\n",
       "      <th>song</th>\n",
       "      <th>link</th>\n",
       "      <th>text</th>\n",
       "    </tr>\n",
       "  </thead>\n",
       "  <tbody>\n",
       "    <tr>\n",
       "      <th>0</th>\n",
       "      <td>ABBA</td>\n",
       "      <td>Ahe's My Kind Of Girl</td>\n",
       "      <td>/a/abba/ahes+my+kind+of+girl_20598417.html</td>\n",
       "      <td>Look at her face, it's a wonderful face  \\r\\nA...</td>\n",
       "    </tr>\n",
       "    <tr>\n",
       "      <th>1</th>\n",
       "      <td>ABBA</td>\n",
       "      <td>Andante, Andante</td>\n",
       "      <td>/a/abba/andante+andante_20002708.html</td>\n",
       "      <td>Take it easy with me, please  \\r\\nTouch me gen...</td>\n",
       "    </tr>\n",
       "    <tr>\n",
       "      <th>2</th>\n",
       "      <td>ABBA</td>\n",
       "      <td>As Good As New</td>\n",
       "      <td>/a/abba/as+good+as+new_20003033.html</td>\n",
       "      <td>I'll never know why I had to go  \\r\\nWhy I had...</td>\n",
       "    </tr>\n",
       "    <tr>\n",
       "      <th>3</th>\n",
       "      <td>ABBA</td>\n",
       "      <td>Bang</td>\n",
       "      <td>/a/abba/bang_20598415.html</td>\n",
       "      <td>Making somebody happy is a question of give an...</td>\n",
       "    </tr>\n",
       "    <tr>\n",
       "      <th>4</th>\n",
       "      <td>ABBA</td>\n",
       "      <td>Bang-A-Boomerang</td>\n",
       "      <td>/a/abba/bang+a+boomerang_20002668.html</td>\n",
       "      <td>Making somebody happy is a question of give an...</td>\n",
       "    </tr>\n",
       "  </tbody>\n",
       "</table>\n",
       "</div>"
      ],
      "text/plain": [
       "  artist                   song                                        link  \\\n",
       "0   ABBA  Ahe's My Kind Of Girl  /a/abba/ahes+my+kind+of+girl_20598417.html   \n",
       "1   ABBA       Andante, Andante       /a/abba/andante+andante_20002708.html   \n",
       "2   ABBA         As Good As New        /a/abba/as+good+as+new_20003033.html   \n",
       "3   ABBA                   Bang                  /a/abba/bang_20598415.html   \n",
       "4   ABBA       Bang-A-Boomerang      /a/abba/bang+a+boomerang_20002668.html   \n",
       "\n",
       "                                                text  \n",
       "0  Look at her face, it's a wonderful face  \\r\\nA...  \n",
       "1  Take it easy with me, please  \\r\\nTouch me gen...  \n",
       "2  I'll never know why I had to go  \\r\\nWhy I had...  \n",
       "3  Making somebody happy is a question of give an...  \n",
       "4  Making somebody happy is a question of give an...  "
      ]
     },
     "execution_count": 2,
     "metadata": {},
     "output_type": "execute_result"
    }
   ],
   "source": [
    "song_df=pd.read_csv('spotify_millsongdata.csv')\n",
    "song_df.head()"
   ]
  },
  {
   "cell_type": "code",
   "execution_count": 3,
   "id": "485a24d4",
   "metadata": {},
   "outputs": [
    {
     "data": {
      "text/plain": [
       "(57650, 4)"
      ]
     },
     "execution_count": 3,
     "metadata": {},
     "output_type": "execute_result"
    }
   ],
   "source": [
    "song_df.shape"
   ]
  },
  {
   "cell_type": "code",
   "execution_count": 4,
   "id": "94e9ad0c",
   "metadata": {},
   "outputs": [
    {
     "data": {
      "text/plain": [
       "artist    0\n",
       "song      0\n",
       "link      0\n",
       "text      0\n",
       "dtype: int64"
      ]
     },
     "execution_count": 4,
     "metadata": {},
     "output_type": "execute_result"
    }
   ],
   "source": [
    "song_df.isnull().sum()"
   ]
  },
  {
   "cell_type": "code",
   "execution_count": 5,
   "id": "e66f29b2",
   "metadata": {},
   "outputs": [],
   "source": [
    "song_df=song_df.sample(5000).drop('link', axis=1).reset_index(drop=True)"
   ]
  },
  {
   "cell_type": "code",
   "execution_count": 6,
   "id": "b8a0b8bf",
   "metadata": {},
   "outputs": [
    {
     "data": {
      "text/html": [
       "<div>\n",
       "<style scoped>\n",
       "    .dataframe tbody tr th:only-of-type {\n",
       "        vertical-align: middle;\n",
       "    }\n",
       "\n",
       "    .dataframe tbody tr th {\n",
       "        vertical-align: top;\n",
       "    }\n",
       "\n",
       "    .dataframe thead th {\n",
       "        text-align: right;\n",
       "    }\n",
       "</style>\n",
       "<table border=\"1\" class=\"dataframe\">\n",
       "  <thead>\n",
       "    <tr style=\"text-align: right;\">\n",
       "      <th></th>\n",
       "      <th>artist</th>\n",
       "      <th>song</th>\n",
       "      <th>text</th>\n",
       "    </tr>\n",
       "  </thead>\n",
       "  <tbody>\n",
       "    <tr>\n",
       "      <th>0</th>\n",
       "      <td>Our Lady Peace</td>\n",
       "      <td>Sleeping In</td>\n",
       "      <td>Souls, although where we meet. This  \\r\\nHose ...</td>\n",
       "    </tr>\n",
       "    <tr>\n",
       "      <th>1</th>\n",
       "      <td>Norah Jones</td>\n",
       "      <td>Little Room</td>\n",
       "      <td>You and me, and  \\r\\nMe and you  \\r\\nIn my lit...</td>\n",
       "    </tr>\n",
       "    <tr>\n",
       "      <th>2</th>\n",
       "      <td>The White Stripes</td>\n",
       "      <td>Wasting My Time</td>\n",
       "      <td>And if I'm wasting my time  \\r\\nThen nothing c...</td>\n",
       "    </tr>\n",
       "    <tr>\n",
       "      <th>3</th>\n",
       "      <td>George Strait</td>\n",
       "      <td>If The Whole World Was A Honky Tonk</td>\n",
       "      <td>If the whole world was a honky-tonk,  \\r\\nAnd ...</td>\n",
       "    </tr>\n",
       "    <tr>\n",
       "      <th>4</th>\n",
       "      <td>King Diamond</td>\n",
       "      <td>So Sad</td>\n",
       "      <td>I am sitting in the Dark, I'm with my Love  \\r...</td>\n",
       "    </tr>\n",
       "  </tbody>\n",
       "</table>\n",
       "</div>"
      ],
      "text/plain": [
       "              artist                                 song  \\\n",
       "0     Our Lady Peace                          Sleeping In   \n",
       "1        Norah Jones                          Little Room   \n",
       "2  The White Stripes                      Wasting My Time   \n",
       "3      George Strait  If The Whole World Was A Honky Tonk   \n",
       "4       King Diamond                               So Sad   \n",
       "\n",
       "                                                text  \n",
       "0  Souls, although where we meet. This  \\r\\nHose ...  \n",
       "1  You and me, and  \\r\\nMe and you  \\r\\nIn my lit...  \n",
       "2  And if I'm wasting my time  \\r\\nThen nothing c...  \n",
       "3  If the whole world was a honky-tonk,  \\r\\nAnd ...  \n",
       "4  I am sitting in the Dark, I'm with my Love  \\r...  "
      ]
     },
     "execution_count": 6,
     "metadata": {},
     "output_type": "execute_result"
    }
   ],
   "source": [
    "song_df.head()"
   ]
  },
  {
   "cell_type": "code",
   "execution_count": 7,
   "id": "10f5a314",
   "metadata": {},
   "outputs": [
    {
     "data": {
      "text/plain": [
       "\"Souls, although where we meet. This  \\r\\nHose a lazy Morphine.  \\r\\nBut I, I'm stretching to see over  \\r\\nYour shoulders and past your priest  \\r\\nAnd paper cups and paper shoes  \\r\\nGive backs to me, but I see right  \\r\\nthrough  \\r\\nAnd I know why you overslept  \\r\\nSo gray, gray, slow rain.  \\r\\n  \\r\\nI'm happier than you.  \\r\\nAnd I'm too high to follow through  \\r\\nHome, like the bedpan he needs.  \\r\\nAnd the hose, that's not supposed to be  \\r\\nBut I, I'm stretching to see over your  \\r\\nFlowers and Time magazines  \\r\\nNow I believe in what you do  \\r\\nThe pain will cease  \\r\\nWell I know why you overslept  \\r\\nTo be home, to be\\r\\n\\r\\n\""
      ]
     },
     "execution_count": 7,
     "metadata": {},
     "output_type": "execute_result"
    }
   ],
   "source": [
    "song_df['text'][0]"
   ]
  },
  {
   "cell_type": "code",
   "execution_count": null,
   "id": "72f40b2a",
   "metadata": {},
   "outputs": [],
   "source": []
  },
  {
   "cell_type": "code",
   "execution_count": 8,
   "id": "fd0590a5",
   "metadata": {},
   "outputs": [
    {
     "data": {
      "text/plain": [
       "(5000, 3)"
      ]
     },
     "execution_count": 8,
     "metadata": {},
     "output_type": "execute_result"
    }
   ],
   "source": [
    "song_df.shape"
   ]
  },
  {
   "cell_type": "markdown",
   "id": "7efd8be8",
   "metadata": {},
   "source": [
    "# Text Preprocessing"
   ]
  },
  {
   "cell_type": "code",
   "execution_count": 9,
   "id": "02deb41e",
   "metadata": {},
   "outputs": [],
   "source": [
    "song_df['text']=song_df['text'].str.lower().replace(r'^a-zA-Z0-9', ' ').replace(r'\\n', ' ', regex= True)"
   ]
  },
  {
   "cell_type": "code",
   "execution_count": 10,
   "id": "a4d17fad",
   "metadata": {},
   "outputs": [
    {
     "data": {
      "text/html": [
       "<div>\n",
       "<style scoped>\n",
       "    .dataframe tbody tr th:only-of-type {\n",
       "        vertical-align: middle;\n",
       "    }\n",
       "\n",
       "    .dataframe tbody tr th {\n",
       "        vertical-align: top;\n",
       "    }\n",
       "\n",
       "    .dataframe thead th {\n",
       "        text-align: right;\n",
       "    }\n",
       "</style>\n",
       "<table border=\"1\" class=\"dataframe\">\n",
       "  <thead>\n",
       "    <tr style=\"text-align: right;\">\n",
       "      <th></th>\n",
       "      <th>artist</th>\n",
       "      <th>song</th>\n",
       "      <th>text</th>\n",
       "    </tr>\n",
       "  </thead>\n",
       "  <tbody>\n",
       "    <tr>\n",
       "      <th>4995</th>\n",
       "      <td>Kiss</td>\n",
       "      <td>In Your Face</td>\n",
       "      <td>i'll never cut my hair  \\r i'll never shed my ...</td>\n",
       "    </tr>\n",
       "    <tr>\n",
       "      <th>4996</th>\n",
       "      <td>Point Of Grace</td>\n",
       "      <td>I'll Be Believing</td>\n",
       "      <td>when i'm walking the straight and narrow  \\r s...</td>\n",
       "    </tr>\n",
       "    <tr>\n",
       "      <th>4997</th>\n",
       "      <td>Who</td>\n",
       "      <td>Cousin Kevin</td>\n",
       "      <td>we're on our own, cousin,  \\r all alone, cousi...</td>\n",
       "    </tr>\n",
       "    <tr>\n",
       "      <th>4998</th>\n",
       "      <td>Air Supply</td>\n",
       "      <td>I Don't Want To Lose You</td>\n",
       "      <td>(graham russell)  \\r i called on you today  \\r...</td>\n",
       "    </tr>\n",
       "    <tr>\n",
       "      <th>4999</th>\n",
       "      <td>Isley Brothers</td>\n",
       "      <td>Love The One You're With</td>\n",
       "      <td>if you're down and confused  \\r and you don't ...</td>\n",
       "    </tr>\n",
       "  </tbody>\n",
       "</table>\n",
       "</div>"
      ],
      "text/plain": [
       "              artist                      song  \\\n",
       "4995            Kiss              In Your Face   \n",
       "4996  Point Of Grace         I'll Be Believing   \n",
       "4997             Who              Cousin Kevin   \n",
       "4998      Air Supply  I Don't Want To Lose You   \n",
       "4999  Isley Brothers  Love The One You're With   \n",
       "\n",
       "                                                   text  \n",
       "4995  i'll never cut my hair  \\r i'll never shed my ...  \n",
       "4996  when i'm walking the straight and narrow  \\r s...  \n",
       "4997  we're on our own, cousin,  \\r all alone, cousi...  \n",
       "4998  (graham russell)  \\r i called on you today  \\r...  \n",
       "4999  if you're down and confused  \\r and you don't ...  "
      ]
     },
     "execution_count": 10,
     "metadata": {},
     "output_type": "execute_result"
    }
   ],
   "source": [
    "song_df.tail()"
   ]
  },
  {
   "cell_type": "code",
   "execution_count": 11,
   "id": "17164cba",
   "metadata": {},
   "outputs": [],
   "source": [
    "import nltk\n",
    "from nltk.stem.porter import PorterStemmer"
   ]
  },
  {
   "cell_type": "code",
   "execution_count": 12,
   "id": "fef7cde3",
   "metadata": {},
   "outputs": [],
   "source": [
    "porter = PorterStemmer()"
   ]
  },
  {
   "cell_type": "code",
   "execution_count": 13,
   "id": "4c454351",
   "metadata": {},
   "outputs": [],
   "source": [
    "def word(txt):\n",
    "    word= nltk.word_tokenize(txt)\n",
    "    A= [porter.stem(w) for w in word]\n",
    "    return \" \".join(A)"
   ]
  },
  {
   "cell_type": "code",
   "execution_count": 14,
   "id": "1d1c1b8f",
   "metadata": {},
   "outputs": [
    {
     "data": {
      "text/plain": [
       "'you are beauti'"
      ]
     },
     "execution_count": 14,
     "metadata": {},
     "output_type": "execute_result"
    }
   ],
   "source": [
    "word('you are beautiful')"
   ]
  },
  {
   "cell_type": "code",
   "execution_count": 15,
   "id": "27c6f3cc",
   "metadata": {},
   "outputs": [
    {
     "data": {
      "text/plain": [
       "0       soul , although where we meet . thi hose a laz...\n",
       "1       you and me , and me and you in my littl room t...\n",
       "2       and if i 'm wast my time then noth could be be...\n",
       "3       if the whole world wa a honky-tonk , and it re...\n",
       "4       i am sit in the dark , i 'm with my love we ar...\n",
       "                              ...                        \n",
       "4995    i 'll never cut my hair i 'll never shed my sk...\n",
       "4996    when i 'm walk the straight and narrow sometim...\n",
       "4997    we 're on our own , cousin , all alon , cousin...\n",
       "4998    ( graham russel ) i call on you today i know i...\n",
       "4999    if you 're down and confus and you do n't reme...\n",
       "Name: text, Length: 5000, dtype: object"
      ]
     },
     "execution_count": 15,
     "metadata": {},
     "output_type": "execute_result"
    }
   ],
   "source": [
    "song_df['text'].apply(lambda x: word(x))"
   ]
  },
  {
   "cell_type": "code",
   "execution_count": 16,
   "id": "d698d84e",
   "metadata": {},
   "outputs": [],
   "source": [
    "from sklearn.feature_extraction.text import TfidfVectorizer\n",
    "from sklearn.metrics.pairwise import cosine_similarity"
   ]
  },
  {
   "cell_type": "code",
   "execution_count": 17,
   "id": "ba93210d",
   "metadata": {},
   "outputs": [],
   "source": [
    "tfid=TfidfVectorizer(analyzer='word', stop_words='english')"
   ]
  },
  {
   "cell_type": "code",
   "execution_count": 18,
   "id": "40883c8b",
   "metadata": {},
   "outputs": [],
   "source": [
    "Matrix=tfid.fit_transform(song_df['text'])"
   ]
  },
  {
   "cell_type": "code",
   "execution_count": 19,
   "id": "d555ceb4",
   "metadata": {},
   "outputs": [],
   "source": [
    "Similar=cosine_similarity(Matrix)"
   ]
  },
  {
   "cell_type": "code",
   "execution_count": 20,
   "id": "2217800b",
   "metadata": {},
   "outputs": [
    {
     "data": {
      "text/plain": [
       "array([1.        , 0.01032029, 0.00348442, ..., 0.02423274, 0.03051967,\n",
       "       0.00503546])"
      ]
     },
     "execution_count": 20,
     "metadata": {},
     "output_type": "execute_result"
    }
   ],
   "source": [
    "Similar[0]"
   ]
  },
  {
   "cell_type": "code",
   "execution_count": 22,
   "id": "2024c532",
   "metadata": {},
   "outputs": [
    {
     "data": {
      "text/plain": [
       "4"
      ]
     },
     "execution_count": 22,
     "metadata": {},
     "output_type": "execute_result"
    }
   ],
   "source": [
    "song_df[song_df['song']=='So Sad'].index[0]"
   ]
  },
  {
   "cell_type": "markdown",
   "id": "c28d7bea",
   "metadata": {},
   "source": [
    "# Recommender System"
   ]
  },
  {
   "cell_type": "code",
   "execution_count": 31,
   "id": "b37117a7",
   "metadata": {},
   "outputs": [],
   "source": [
    "def Recommender(song_name):\n",
    "    IDX=song_df[song_df['song']==song_name].index[0]\n",
    "    distance=sorted(list(enumerate(Similar[IDX])), reverse=True, key= lambda x:x[1])\n",
    "    song= []\n",
    "    for song_id in distance[1:21]:\n",
    "        song.append(song_df.iloc[song_id[0]].song)\n",
    "    return song"
   ]
  },
  {
   "cell_type": "code",
   "execution_count": 32,
   "id": "9be20783",
   "metadata": {},
   "outputs": [
    {
     "data": {
      "text/plain": [
       "['Butterfly Blue',\n",
       " 'Goodbye, My Love',\n",
       " 'Goodbye Sadness',\n",
       " 'If We Wait',\n",
       " 'Remember Love',\n",
       " 'Love Is All',\n",
       " 'Never Say Goodbye',\n",
       " \"Goodbye's\",\n",
       " 'Say Goodbye To Hollywood',\n",
       " 'Christmas In The Trenches',\n",
       " 'Here It Is',\n",
       " 'Immortality',\n",
       " 'Die Die My Darling',\n",
       " 'Goodbye',\n",
       " 'Goodbye',\n",
       " 'Until Sun Comes Up',\n",
       " 'Butterfly',\n",
       " 'Wait',\n",
       " 'But You Know I Love You',\n",
       " \"It's Just The Way\"]"
      ]
     },
     "execution_count": 32,
     "metadata": {},
     "output_type": "execute_result"
    }
   ],
   "source": [
    "Recommender(\"So Sad\")"
   ]
  },
  {
   "cell_type": "code",
   "execution_count": 33,
   "id": "995e71be",
   "metadata": {},
   "outputs": [],
   "source": [
    "import pickle "
   ]
  },
  {
   "cell_type": "code",
   "execution_count": 34,
   "id": "5b33baed",
   "metadata": {},
   "outputs": [],
   "source": [
    "pickle.dump(Similar, open(\"Similarity\", \"wb\"))"
   ]
  },
  {
   "cell_type": "code",
   "execution_count": 35,
   "id": "ef085a9d",
   "metadata": {},
   "outputs": [],
   "source": [
    "pickle.dump(song_df, open(\"song_df\", \"wb\"))"
   ]
  },
  {
   "cell_type": "code",
   "execution_count": null,
   "id": "33670d61",
   "metadata": {},
   "outputs": [],
   "source": []
  }
 ],
 "metadata": {
  "kernelspec": {
   "display_name": "Python 3 (ipykernel)",
   "language": "python",
   "name": "python3"
  },
  "language_info": {
   "codemirror_mode": {
    "name": "ipython",
    "version": 3
   },
   "file_extension": ".py",
   "mimetype": "text/x-python",
   "name": "python",
   "nbconvert_exporter": "python",
   "pygments_lexer": "ipython3",
   "version": "3.9.13"
  }
 },
 "nbformat": 4,
 "nbformat_minor": 5
}
